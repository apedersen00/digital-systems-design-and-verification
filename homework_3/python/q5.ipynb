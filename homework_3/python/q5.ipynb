{
 "cells": [
  {
   "cell_type": "code",
   "execution_count": 8,
   "id": "72d8855f",
   "metadata": {},
   "outputs": [],
   "source": [
    "import numpy as np\n",
    "import matplotlib.pyplot as plt"
   ]
  },
  {
   "cell_type": "code",
   "execution_count": 23,
   "id": "4abdb8c6",
   "metadata": {},
   "outputs": [],
   "source": [
    "def x_hex_to_float(hex_str: str) -> float:\n",
    "    \"\"\"Convert 16-bit hex (Q1.15) to float.\"\"\"\n",
    "    val = int(hex_str, 16) & 0xFFFF\n",
    "    return val / (1 << 15)  # divide by 32768.0\n",
    "\n",
    "def float_to_x_hex(value: float) -> str:\n",
    "    \"\"\"Convert float to 16-bit hex (Q1.15).\"\"\"\n",
    "    val = int(round(value * (1 << 15))) & 0xFFFF\n",
    "    return f\"0x{val:04X}\"\n",
    "\n",
    "def result_hex_to_float(hex_str: str) -> float:\n",
    "    \"\"\"Convert 16-bit hex (Q0.16) to float.\"\"\"\n",
    "    val = int(hex_str, 16) & 0xFFFF\n",
    "    return val / (1 << 16)  # divide by 65536.0\n",
    "\n",
    "def float_to_result_hex(value: float) -> str:\n",
    "    \"\"\"Convert float to 16-bit hex (Q0.16).\"\"\"\n",
    "    val = int(round(value * (1 << 16))) & 0xFFFF\n",
    "    return f\"0x{val:04X}\""
   ]
  },
  {
   "cell_type": "code",
   "execution_count": 10,
   "id": "fddbea93",
   "metadata": {},
   "outputs": [
    {
     "data": {
      "text/plain": [
       "[<matplotlib.lines.Line2D at 0x7a3c342bf390>]"
      ]
     },
     "execution_count": 10,
     "metadata": {},
     "output_type": "execute_result"
    },
    {
     "data": {
      "image/png": "[encoded data removed]",
      "text/plain": [
       "<Figure size 640x480 with 1 Axes>"
      ]
     },
     "metadata": {},
     "output_type": "display_data"
    }
   ],
   "source": [
    "def next_term(T_n, x, n):\n",
    "    term = -T_n\n",
    "    term = term * (x ** 2)\n",
    "    term = term / ( (2*n + 2) * (2*n + 3) )\n",
    "    return term\n",
    "\n",
    "x = np.linspace(0, 2*np.pi, 100)\n",
    "sin = np.zeros(100)\n",
    "\n",
    "for i in range(len(x)):\n",
    "    term = x[i]\n",
    "    sum  = term\n",
    "    for n in range(8):\n",
    "        term = next_term(term, x[i], n)\n",
    "        sum += term\n",
    "    sin[i] = sum\n",
    "\n",
    "plt.plot(x, sin)"
   ]
  },
  {
   "cell_type": "code",
   "execution_count": 28,
   "id": "44ac645f",
   "metadata": {},
   "outputs": [
    {
     "name": "stdout",
     "output_type": "stream",
     "text": [
      "Prev term: -1.57\n",
      "x^2: 2.4649\n",
      "lut: 0.16666666666666666\n",
      "Term 0: -0.6449821666666667\n",
      "Sum 0: 0.9250178333333333\n",
      "\n",
      "Prev term: 0.6449821666666667\n",
      "x^2: 2.4649\n",
      "lut: 0.05\n",
      "Term 1: 0.07949082713083334\n",
      "Sum 1: 1.0045086604641666\n",
      "\n",
      "Prev term: -0.07949082713083334\n",
      "x^2: 2.4649\n",
      "lut: 0.023809523809523808\n",
      "Term 2: -0.004665165233209313\n",
      "Sum 2: 0.9998434952309573\n",
      "\n",
      "Prev term: 0.004665165233209313\n",
      "x^2: 2.4649\n",
      "lut: 0.013888888888888888\n",
      "Term 3: 0.00015971063587968937\n",
      "Sum 3: 1.0000032058668369\n",
      "\n",
      "Prev term: -0.00015971063587968937\n",
      "x^2: 2.4649\n",
      "lut: 0.00909090909090909\n",
      "Term 4: -3.5788249670895123e-06\n",
      "Sum 4: 0.9999996270418698\n",
      "\n",
      "Prev term: 3.5788249670895123e-06\n",
      "x^2: 2.4649\n",
      "lut: 0.00641025641025641\n",
      "Term 5: 5.654772859858294e-08\n",
      "Sum 5: 0.9999996835895985\n",
      "\n",
      "Prev term: -5.654772859858294e-08\n",
      "x^2: 2.4649\n",
      "lut: 0.004761904761904762\n",
      "Term 6: -6.637356962983196e-10\n",
      "Sum 6: 0.9999996829258627\n",
      "\n",
      "Prev term: 6.637356962983196e-10\n",
      "x^2: 2.4649\n",
      "lut: 0.003676470588235294\n",
      "Term 7: 6.0148607272269416e-12\n",
      "Sum 7: 0.9999996829318776\n",
      "\n",
      "\n",
      "Sum\n",
      "0.9999996829318776\n"
     ]
    }
   ],
   "source": [
    "def next_term(T_n, x, n):\n",
    "    print(f\"Prev term: {-T_n}\")\n",
    "    term = -T_n\n",
    "    print(f\"x^2: {x**2}\")\n",
    "    term = term * (x ** 2)\n",
    "    print(f\"lut: {1 / ( (2*n + 2) * (2*n + 3) )}\")\n",
    "    term = term / ( (2*n + 2) * (2*n + 3) )\n",
    "    return term\n",
    "\n",
    "x = 1.57\n",
    "\n",
    "term = x\n",
    "sum  = term\n",
    "for n in range(8):\n",
    "    term = next_term(term, x, n)\n",
    "    print(f\"Term {n}: {term}\")\n",
    "    sum += term\n",
    "    print(f\"Sum {n}: {sum}\")\n",
    "    print(\"\")\n",
    "\n",
    "print(\"\\nSum\")\n",
    "print(sum)"
   ]
  },
  {
   "cell_type": "code",
   "execution_count": 31,
   "id": "3ac7c1fa",
   "metadata": {},
   "outputs": [
    {
     "data": {
      "text/plain": [
       "0.7255859375"
      ]
     },
     "execution_count": 31,
     "metadata": {},
     "output_type": "execute_result"
    }
   ],
   "source": [
    "result_hex_to_float(\"0xb9c0\")"
   ]
  },
  {
   "cell_type": "code",
   "execution_count": 30,
   "id": "f69dac2d",
   "metadata": {},
   "outputs": [
    {
     "data": {
      "text/plain": [
       "1.569976806640625"
      ]
     },
     "execution_count": 30,
     "metadata": {},
     "output_type": "execute_result"
    }
   ],
   "source": [
    "x_hex_to_float(\"0xc8f5\")"
   ]
  },
  {
   "cell_type": "code",
   "execution_count": 32,
   "id": "6ac4baa4",
   "metadata": {},
   "outputs": [
    {
     "data": {
      "text/plain": [
       "0.464813232421875"
      ]
     },
     "execution_count": 32,
     "metadata": {},
     "output_type": "execute_result"
    }
   ],
   "source": [
    "x_hex_to_float(\"0x3b7f\")"
   ]
  },
  {
   "cell_type": "code",
   "execution_count": 16,
   "id": "9b0e6890",
   "metadata": {},
   "outputs": [
    {
     "data": {
      "text/plain": [
       "0.0989990234375"
      ]
     },
     "execution_count": 16,
     "metadata": {},
     "output_type": "execute_result"
    }
   ],
   "source": [
    "x_hex_to_float(\"0xcac\")"
   ]
  },
  {
   "cell_type": "code",
   "execution_count": 17,
   "id": "16360c99",
   "metadata": {},
   "outputs": [
    {
     "data": {
      "text/plain": [
       "0.04949951171875"
      ]
     },
     "execution_count": 17,
     "metadata": {},
     "output_type": "execute_result"
    }
   ],
   "source": [
    "result_hex_to_float(\"0xcac\")"
   ]
  },
  {
   "cell_type": "code",
   "execution_count": null,
   "id": "8a56a47d",
   "metadata": {},
   "outputs": [],
   "source": []
  }
 ],
 "metadata": {
  "kernelspec": {
   "display_name": "il2234-py3.13",
   "language": "python",
   "name": "python3"
  },
  "language_info": {
   "codemirror_mode": {
    "name": "ipython",
    "version": 3
   },
   "file_extension": ".py",
   "mimetype": "text/x-python",
   "name": "python",
   "nbconvert_exporter": "python",
   "pygments_lexer": "ipython3",
   "version": "3.13.7"
  }
 },
 "nbformat": 4,
 "nbformat_minor": 5
}
