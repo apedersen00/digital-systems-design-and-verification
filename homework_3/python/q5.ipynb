{
 "cells": [
  {
   "cell_type": "code",
   "execution_count": null,
   "id": "72d8855f",
   "metadata": {},
   "outputs": [],
   "source": [
    "import numpy as np\n",
    "import matplotlib.pyplot as plt"
   ]
  },
  {
   "cell_type": "code",
   "execution_count": null,
   "id": "fddbea93",
   "metadata": {},
   "outputs": [],
   "source": [
    "def next_term(T_n, x, n):\n",
    "    term = -T_n\n",
    "    term = term * (x ** 2)\n",
    "    term = term / ( (2*n + 2) * (2*n + 3) )\n",
    "    return term\n",
    "\n",
    "x = np.linspace(0, 2*np.pi, 100)\n",
    "sin = np.zeros(100)\n",
    "\n",
    "for i in range(len(x)):\n",
    "    term = x[i]\n",
    "    sum  = term\n",
    "    for n in range(8):\n",
    "        term = next_term(term, x[i], n)\n",
    "        sum += term\n",
    "    sin[i] = sum\n",
    "\n",
    "plt.plot(x, sin)"
   ]
  },
  {
   "cell_type": "code",
   "execution_count": null,
   "id": "21286cff",
   "metadata": {},
   "outputs": [],
   "source": []
  }
 ],
 "metadata": {
  "kernelspec": {
   "display_name": "il2234-py3.13",
   "language": "python",
   "name": "python3"
  },
  "language_info": {
   "codemirror_mode": {
    "name": "ipython",
    "version": 3
   },
   "file_extension": ".py",
   "mimetype": "text/x-python",
   "name": "python",
   "nbconvert_exporter": "python",
   "pygments_lexer": "ipython3",
   "version": "3.13.7"
  }
 },
 "nbformat": 4,
 "nbformat_minor": 5
}
