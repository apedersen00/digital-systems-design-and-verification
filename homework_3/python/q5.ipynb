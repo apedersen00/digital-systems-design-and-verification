{
 "cells": [
  {
   "cell_type": "code",
   "execution_count": null,
   "id": "72d8855f",
   "metadata": {},
   "outputs": [],
   "source": [
    "import numpy as np\n",
    "import matplotlib.pyplot as plt\n",
    "import pandas as pd"
   ]
  },
  {
   "cell_type": "code",
   "execution_count": null,
   "id": "4abdb8c6",
   "metadata": {},
   "outputs": [],
   "source": [
    "def x_hex_to_float(hex_str: str) -> float:\n",
    "    \"\"\"Convert 16-bit hex (Q1.15) to float.\"\"\"\n",
    "    val = int(hex_str, 16) & 0xFFFF\n",
    "    return val / (1 << 15)  # divide by 32768.0\n",
    "\n",
    "def float_to_x_hex(value: float) -> str:\n",
    "    \"\"\"Convert float to 16-bit hex (Q1.15).\"\"\"\n",
    "    val = int(round(value * (1 << 15))) & 0xFFFF\n",
    "    return f\"0x{val:04X}\"\n",
    "\n",
    "def result_hex_to_float(hex_str: str) -> float:\n",
    "    \"\"\"Convert 16-bit hex (Q0.16) to float.\"\"\"\n",
    "    val = int(hex_str, 16) & 0xFFFF\n",
    "    return val / (1 << 16)  # divide by 65536.0\n",
    "\n",
    "def float_to_result_hex(value: float) -> str:\n",
    "    \"\"\"Convert float to 16-bit hex (Q0.16).\"\"\"\n",
    "    val = int(round(value * (1 << 16))) & 0xFFFF\n",
    "    return f\"0x{val:04X}\""
   ]
  },
  {
   "cell_type": "code",
   "execution_count": null,
   "id": "fddbea93",
   "metadata": {},
   "outputs": [],
   "source": [
    "def next_term(T_n, x, n):\n",
    "    term = -T_n\n",
    "    term = term * (x ** 2)\n",
    "    term = term / ( (2*n + 2) * (2*n + 3) )\n",
    "    return term\n",
    "\n",
    "x = np.linspace(0, 2*np.pi, 100)\n",
    "sin = np.zeros(100)\n",
    "\n",
    "for i in range(len(x)):\n",
    "    term = x[i]\n",
    "    sum  = term\n",
    "    for n in range(8):\n",
    "        term = next_term(term, x[i], n)\n",
    "        sum += term\n",
    "    sin[i] = sum\n",
    "\n",
    "plt.plot(x, sin)"
   ]
  },
  {
   "cell_type": "code",
   "execution_count": null,
   "id": "44ac645f",
   "metadata": {},
   "outputs": [],
   "source": [
    "def next_term(T_n, x, n):\n",
    "    print(f\"Prev term: {-T_n}\")\n",
    "    term = -T_n\n",
    "    print(f\"x^2: {x**2}\")\n",
    "    term = term * (x ** 2)\n",
    "    print(f\"lut: {1 / ( (2*n + 2) * (2*n + 3) )}\")\n",
    "    term = term / ( (2*n + 2) * (2*n + 3) )\n",
    "    return term\n",
    "\n",
    "x = 1.57\n",
    "\n",
    "term = x\n",
    "sum  = term\n",
    "for n in range(8):\n",
    "    term = next_term(term, x, n)\n",
    "    print(f\"Term {n}: {term}\")\n",
    "    sum += term\n",
    "    print(f\"Sum {n}: {sum}\")\n",
    "    print(\"\")\n",
    "\n",
    "print(\"\\nSum\")\n",
    "print(sum)"
   ]
  },
  {
   "cell_type": "code",
   "execution_count": null,
   "id": "8a56a47d",
   "metadata": {},
   "outputs": [],
   "source": [
    "df = pd.read_csv(\"sinx.csv\")\n",
    "\n",
    "x = np.linspace(0, np.pi/2, 100)\n",
    "sin = np.sin(x)\n",
    "\n",
    "fig, ax = plt.subplots()\n",
    "\n",
    "ax.plot(x, sin, label=\"ref\", color='black', linestyle='-', alpha=0.5, linewidth=3)\n",
    "ax.plot(df['rad'], df['res'], label=\"HW\", color='blue', linewidth=3, linestyle='--')\n",
    "\n",
    "ax.set_xlabel(\"Angle (rad)\")\n",
    "ax.set_ylabel(\"sin(x)\")\n",
    "ax.legend()\n",
    "fig.tight_layout()\n",
    "fig.savefig('../report/assets/q5_sin.pdf')"
   ]
  },
  {
   "cell_type": "code",
   "execution_count": null,
   "id": "7afd6734",
   "metadata": {},
   "outputs": [],
   "source": []
  }
 ],
 "metadata": {
  "kernelspec": {
   "display_name": "il2234-py3.13",
   "language": "python",
   "name": "python3"
  },
  "language_info": {
   "codemirror_mode": {
    "name": "ipython",
    "version": 3
   },
   "file_extension": ".py",
   "mimetype": "text/x-python",
   "name": "python",
   "nbconvert_exporter": "python",
   "pygments_lexer": "ipython3",
   "version": "3.13.7"
  }
 },
 "nbformat": 4,
 "nbformat_minor": 5
}
